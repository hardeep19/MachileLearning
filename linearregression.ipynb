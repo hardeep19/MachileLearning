{
 "cells": [
  {
   "cell_type": "code",
   "execution_count": 1,
   "metadata": {},
   "outputs": [],
   "source": [
    "import pandas as pd\n",
    "import numpy as np\n",
    "from sklearn.datasets import load_boston"
   ]
  },
  {
   "cell_type": "code",
   "execution_count": 2,
   "metadata": {},
   "outputs": [
    {
     "name": "stdout",
     "output_type": "stream",
     "text": [
      "[[6.3200e-03 1.8000e+01 2.3100e+00 ... 1.5300e+01 3.9690e+02 4.9800e+00]\n",
      " [2.7310e-02 0.0000e+00 7.0700e+00 ... 1.7800e+01 3.9690e+02 9.1400e+00]\n",
      " [2.7290e-02 0.0000e+00 7.0700e+00 ... 1.7800e+01 3.9283e+02 4.0300e+00]\n",
      " ...\n",
      " [6.0760e-02 0.0000e+00 1.1930e+01 ... 2.1000e+01 3.9690e+02 5.6400e+00]\n",
      " [1.0959e-01 0.0000e+00 1.1930e+01 ... 2.1000e+01 3.9345e+02 6.4800e+00]\n",
      " [4.7410e-02 0.0000e+00 1.1930e+01 ... 2.1000e+01 3.9690e+02 7.8800e+00]]\n"
     ]
    }
   ],
   "source": [
    "data = load_boston()\n",
    "print(data.data)"
   ]
  },
  {
   "cell_type": "code",
   "execution_count": 3,
   "metadata": {},
   "outputs": [
    {
     "name": "stdout",
     "output_type": "stream",
     "text": [
      "[44.8 17.1 17.8 33.1 21.9 21.  18.4 10.4 23.1 20.  15.7 41.3 33.3 30.7\n",
      "  8.5  6.3 21.2 16.2 15.6 24.1 23.9 50.  23.2 23.4 12.8 24.6 18.8 16.1\n",
      " 18.2 24.3 14.8 37.3 21.4 18.6 18.8 13.9 24.5 31.5 18.2 20.7 19.4  9.7\n",
      " 21.5 14.9 21.7 26.5 20.7 19.3 24.5 19.3 26.6 23.  45.4 19.8 22.7 23.1\n",
      " 50.  17.8 29.1 19.2 22.7 21.2 37.2 31.6 16.1 22.2 34.9 20.5 28.  29.1\n",
      " 24.7 22.  15.6 37.  11.8 21.7 19.4 23.3 16.5 16.7 23.9 15.2 11.9 19.9\n",
      " 22.8 11.3 25.2 11.5 22.  21.6 19.9 16.8 19.3 50.  29.4 13.3 50.  11.7\n",
      " 21.7 33.4 20.2 19.4 14.9 19.6 35.4 12.  20.4 23.7 21.  50.  27.5 12.7\n",
      " 17.4 23.8 22.9 18.5 30.3 31.2 16.  23.3 15.  10.2 12.5 19.6 19.7 19.5\n",
      " 15.  35.4 13.5 20.6 24.7 21.9 17.1 23.6 21.1 15.6 18.5  8.3 14.5 23.9\n",
      " 11.8 24.6 24.8 18.7 17.9 48.8 13.  29.6 18.  20.1 17.3 23.1]\n"
     ]
    }
   ],
   "source": [
    "from sklearn.linear_model import LinearRegression\n",
    "from sklearn.model_selection import train_test_split\n",
    "x_train,x_test,y_train,y_test = train_test_split(data.data,data.target,test_size = 0.3,random_state=3)\n",
    "model = LinearRegression().fit(x_train,y_train)\n",
    "y_pred = model.predict(x_test)\n",
    "print(y_test)"
   ]
  },
  {
   "cell_type": "code",
   "execution_count": 4,
   "metadata": {},
   "outputs": [
    {
     "data": {
      "text/plain": [
       "0.7147895265576846"
      ]
     },
     "execution_count": 4,
     "metadata": {},
     "output_type": "execute_result"
    }
   ],
   "source": [
    "from sklearn.metrics import accuracy_score\n",
    "model.score(x_test,y_test)"
   ]
  },
  {
   "cell_type": "code",
   "execution_count": null,
   "metadata": {},
   "outputs": [],
   "source": []
  }
 ],
 "metadata": {
  "kernelspec": {
   "display_name": "Python 3",
   "language": "python",
   "name": "python3"
  },
  "language_info": {
   "codemirror_mode": {
    "name": "ipython",
    "version": 3
   },
   "file_extension": ".py",
   "mimetype": "text/x-python",
   "name": "python",
   "nbconvert_exporter": "python",
   "pygments_lexer": "ipython3",
   "version": "3.6.9"
  }
 },
 "nbformat": 4,
 "nbformat_minor": 2
}
